{
 "cells": [
  {
   "cell_type": "markdown",
   "metadata": {},
   "source": [
    "# Summarize YouTube Video\n",
    "\n",
    "The goal of this colab is to have the transcript of a youtube video summarized by a large-language model."
   ]
  },
  {
   "cell_type": "markdown",
   "metadata": {},
   "source": [
    "### install libraries\n",
    "This version uses llama_hubs ytloader module and the llama_index treesummarize modules.\n",
    "the underlying model that is called is openai's gpt3.5 model but can be changed to any "
   ]
  },
  {
   "cell_type": "code",
   "execution_count": null,
   "metadata": {},
   "outputs": [],
   "source": [
    "%pip install llama_index==\"0.8.41\"\n",
    "%pip install llama_hub==\"0.0.36\"\n",
    "%pip install youtube_transcript_api==\"0.6.1\"\n"
   ]
  },
  {
   "cell_type": "markdown",
   "metadata": {},
   "source": [
    "### configuration of modules\n",
    "\n",
    "- logging and required openai api key"
   ]
  },
  {
   "cell_type": "code",
   "execution_count": 16,
   "metadata": {},
   "outputs": [],
   "source": [
    "import os\n",
    "import logging\n",
    "import sys\n",
    "import getpass\n",
    "\n",
    "logging.basicConfig(stream=sys.stdout, level=logging.WARN)\n",
    "logging.getLogger().addHandler(logging.StreamHandler(stream=sys.stdout))\n",
    "\n",
    "os.environ[\"OPENAI_API_KEY\"] = getpass.getpass(\"OpenAI API Key:\")"
   ]
  },
  {
   "cell_type": "markdown",
   "metadata": {},
   "source": [
    "### download a youtube video's transcript\n",
    "\n",
    "- using llama_hub's [youtube transcript loader] (https://llamahub.ai/l/youtube_transcript)"
   ]
  },
  {
   "cell_type": "code",
   "execution_count": null,
   "metadata": {},
   "outputs": [],
   "source": [
    "from llama_hub.youtube_transcript import YoutubeTranscriptReader\n",
    "\n",
    "loader = YoutubeTranscriptReader()\n",
    "documents = loader.load_data(ytlinks=['https://www.youtube.com/watch?v=ZSEnQ00iUgI'])\n",
    "yt_transcript = documents[0].text"
   ]
  },
  {
   "cell_type": "markdown",
   "metadata": {},
   "source": [
    "### summarize the transcript text\n",
    "\n",
    "- using [llama_index treesummarize module](https://docs.llamaindex.ai/en/v0.8.37/examples/response_synthesizers/tree_summarize.html)"
   ]
  },
  {
   "cell_type": "code",
   "execution_count": 18,
   "metadata": {},
   "outputs": [
    {
     "name": "stdout",
     "output_type": "stream",
     "text": [
      "1 text chunks after repacking\n",
      "INFO:openai:message='OpenAI API response' path=https://api.openai.com/v1/chat/completions processing_ms=821 request_id=654d1ec2b896329d96646c9156c16a1f response_code=200\n",
      "message='OpenAI API response' path=https://api.openai.com/v1/chat/completions processing_ms=821 request_id=654d1ec2b896329d96646c9156c16a1f response_code=200\n",
      "message='OpenAI API response' path=https://api.openai.com/v1/chat/completions processing_ms=821 request_id=654d1ec2b896329d96646c9156c16a1f response_code=200\n",
      "================ SUMMARY ================\n",
      "The Deep Shore Cloud Archive with microservices innovates old archives.\n"
     ]
    }
   ],
   "source": [
    "from llama_index.response_synthesizers import TreeSummarize\n",
    "\n",
    "summarizer = TreeSummarize(verbose=True)\n",
    "response = await summarizer.aget_response(\"Who innovates old archives?\", [yt_transcript])\n",
    "\n",
    "print('================ SUMMARY ================')\n",
    "print(response)"
   ]
  }
 ],
 "metadata": {
  "kernelspec": {
   "display_name": "chatbot-5min",
   "language": "python",
   "name": "python3"
  },
  "language_info": {
   "codemirror_mode": {
    "name": "ipython",
    "version": 3
   },
   "file_extension": ".py",
   "mimetype": "text/x-python",
   "name": "python",
   "nbconvert_exporter": "python",
   "pygments_lexer": "ipython3",
   "version": "3.10.12"
  }
 },
 "nbformat": 4,
 "nbformat_minor": 2
}
