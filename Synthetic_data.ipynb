{
  "cells": [
    {
      "cell_type": "markdown",
      "metadata": {},
      "source": [
        "<h1>Synthetic Data Genration</h1>\n",
        "<p>Synthetic data generation is a process that creates information that has the same characteristics as a real-world dataset but without including any real-world data. Synthetic data is typically created using algorithms.</p>\n",
        "<h3>Installing the Libraries</h3>\n",
        "<p>First, you'll need to have the langchain library installed, along with its dependencies. Since we're using the OpenAI generator chain, we'll install that as well. Since this is an experimental lib, we'll need to include langchain_experimental in our installs.</p>"
      ]
    },
    {
      "cell_type": "code",
      "execution_count": null,
      "metadata": {
        "id": "UhQ335mOM6sz"
      },
      "outputs": [],
      "source": [
        "!pip install -U langchain langchain_experimental openai python-dotenv\n"
      ]
    },
    {
      "cell_type": "markdown",
      "metadata": {},
      "source": [
        "<h3>Configuring Files</h3>\n",
        "<p>here the openAI keys are configured</p>"
      ]
    },
    {
      "cell_type": "code",
      "execution_count": null,
      "metadata": {
        "id": "e4wmzJSnSPbi"
      },
      "outputs": [],
      "source": [
        "import dotenv\n",
        "import os\n",
        "import openai\n",
        "dotenv.load_dotenv('./.env')\n",
        "openai.api_key = os.environ[\"OPENAI_API_KEY\"]"
      ]
    },
    {
      "cell_type": "markdown",
      "metadata": {},
      "source": [
        "<h3>Importing</h3>\n",
        "<p>import all the necessary modules.</p>"
      ]
    },
    {
      "cell_type": "code",
      "execution_count": 8,
      "metadata": {
        "id": "FPSEvhr3QyVE"
      },
      "outputs": [],
      "source": [
        "from langchain.prompts import FewShotPromptTemplate, PromptTemplate\n",
        "from langchain.chat_models import ChatOpenAI\n",
        "from langchain.pydantic_v1 import BaseModel\n",
        "from langchain_experimental.tabular_synthetic_data.base import SyntheticDataGenerator\n",
        "from langchain_experimental.tabular_synthetic_data.openai import (\n",
        "    create_openai_data_generator,\n",
        "    OPENAI_TEMPLATE,\n",
        ")\n",
        "from langchain_experimental.tabular_synthetic_data.prompts import (\n",
        "    SYNTHETIC_FEW_SHOT_SUFFIX,\n",
        "    SYNTHETIC_FEW_SHOT_PREFIX,\n",
        ")"
      ]
    },
    {
      "cell_type": "markdown",
      "metadata": {},
      "source": [
        "<h3>Defining Data Model</h3>\n",
        "<p>Each dataset adheres to a specific structure, often referred to as a \"schema.\" In the following MedicalBilling class, we establish our schema for the synthetic data. By defining this schema, we are essentially providing guidance to our synthetic data generator regarding the structure and characteristics of the data we anticipate.</p>"
      ]
    },
    {
      "cell_type": "code",
      "execution_count": 9,
      "metadata": {
        "id": "j56JVIfvR0xG"
      },
      "outputs": [],
      "source": [
        "class MedicalBilling(BaseModel):\n",
        "    patient_id: int\n",
        "    patient_name: str\n",
        "    diagnosis_code: str\n",
        "    procedure_code: str\n",
        "    total_charge: float\n",
        "    insurance_claim_amount: float"
      ]
    },
    {
      "cell_type": "markdown",
      "metadata": {},
      "source": [
        "<h3>Sample Data</h3>\n",
        "<p>In order to steer the synthetic data generator, it is valuable to furnish it with a few real-world-like instances. These instances act as a \"seed\" and reflect the type of data desired. The generator will leverage these examples to generate additional data with a similar appearance.</p>"
      ]
    },
    {
      "cell_type": "code",
      "execution_count": 10,
      "metadata": {
        "id": "62fANegHN_qt"
      },
      "outputs": [],
      "source": [
        "examples = [\n",
        "    {\n",
        "        \"example\": \"\"\"Patient ID: 23242, Patient Name: Atul Ajay, Diagnosis Code:\n",
        "        A60.9, Procedure Code: 000903, Total Charge: $123, Insurance Claim Amount: $100\"\"\"\n",
        "    },\n",
        "    {\n",
        "        \"example\": \"\"\"Patient ID: 123092, Patient Name: Rohan Joshi, Diagnosis\n",
        "        Code: R74.5, Procedure Code: 000913, Total Charge: $150, Insurance Claim Amount: $120\"\"\"\n",
        "    },\n",
        "    {\n",
        "        \"example\": \"\"\"Patient ID: 342423, Patient Name: Rohan Pathak, Diagnosis Code:\n",
        "        E21.9, Procedure Code: 000914, Total Charge: $500, Insurance Claim Amount: $300\"\"\"\n",
        "    },\n",
        "]"
      ]
    },
    {
      "cell_type": "markdown",
      "metadata": {},
      "source": [
        "<h3>Prompt Template</h3>\n",
        "<p>The generator does not possess an inherent understanding of how to generate our data we must provide guidance. To achieve this, we create a prompt template. This template assists in instructing the underlying language model on how to generate synthetic data in the specific format we require.</p>"
      ]
    },
    {
      "cell_type": "code",
      "execution_count": 11,
      "metadata": {
        "id": "WVa3AR0vPFGl"
      },
      "outputs": [],
      "source": [
        "OPENAI_TEMPLATE = PromptTemplate(input_variables=[\"example\"], template=\"{example}\")\n",
        "\n",
        "prompt_template = FewShotPromptTemplate(\n",
        "    prefix=SYNTHETIC_FEW_SHOT_PREFIX,\n",
        "    examples=examples,\n",
        "    suffix=SYNTHETIC_FEW_SHOT_SUFFIX,\n",
        "    input_variables=[\"subject\", \"extra\"],\n",
        "    example_prompt=OPENAI_TEMPLATE,\n",
        ")"
      ]
    },
    {
      "cell_type": "markdown",
      "metadata": {},
      "source": [
        "<h3>Data Genrator</h3>\n",
        "<p>After preparing the schema and prompt, the subsequent task involves establishing the data generator. This entity possesses the capability to interact with the underlying language model to obtain synthetic data.</p>"
      ]
    },
    {
      "cell_type": "code",
      "execution_count": null,
      "metadata": {
        "id": "cw_xPyn2Pl5l"
      },
      "outputs": [],
      "source": [
        "synthetic_data_generator = create_openai_data_generator(\n",
        "    output_schema=MedicalBilling,\n",
        "    llm=ChatOpenAI(temperature=0, model_name=\"gpt-3.5-turbo-16k\"),\n",
        "    prompt=prompt_template,\n",
        ")\n"
      ]
    },
    {
      "cell_type": "markdown",
      "metadata": {},
      "source": [
        "<h3>Synthetic Data</h3>\n",
        "<p>This instruction instructs the generator to generate 10 synthetic medical billing records, which will be saved in the variable \"synthetic_results.\" The output will be in the form of a list containing the MedicalBilling pydantic models.</p>"
      ]
    },
    {
      "cell_type": "code",
      "execution_count": null,
      "metadata": {
        "id": "lL2jP-_WPpPQ"
      },
      "outputs": [],
      "source": [
        "synthetic_results = synthetic_data_generator.generate(\n",
        "    subject=\"medical_billing\",\n",
        "    extra=\"the name must be chosen at random. Make it something you wouldn't normally choose.\",\n",
        "    runs=10,\n",
        ")\n",
        "print(synthetic_results);"
      ]
    }
  ],
  "metadata": {
    "colab": {
      "provenance": []
    },
    "kernelspec": {
      "display_name": "Python 3",
      "name": "python3"
    },
    "language_info": {
      "name": "python"
    }
  },
  "nbformat": 4,
  "nbformat_minor": 0
}
